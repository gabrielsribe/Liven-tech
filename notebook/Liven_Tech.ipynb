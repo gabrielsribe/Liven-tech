{
  "nbformat": 4,
  "nbformat_minor": 0,
  "metadata": {
    "colab": {
      "provenance": []
    },
    "kernelspec": {
      "name": "python3",
      "display_name": "Python 3"
    },
    "language_info": {
      "name": "python"
    }
  },
  "cells": [
    {
      "cell_type": "code",
      "source": [
        "# @title Imports\n",
        "# Load the Drive helper and mount\n",
        "from google.colab import drive\n",
        "import sqlite3\n",
        "import pandas as pd\n",
        "drive.mount('/content/drive')"
      ],
      "metadata": {
        "colab": {
          "base_uri": "https://localhost:8080/"
        },
        "id": "d7miXwxzSArP",
        "outputId": "0258514d-0aec-4109-fb2e-f8006141000a"
      },
      "execution_count": 3,
      "outputs": [
        {
          "output_type": "stream",
          "name": "stdout",
          "text": [
            "Mounted at /content/drive\n"
          ]
        }
      ]
    },
    {
      "cell_type": "code",
      "source": [
        "# @title Pyspark Setup\n",
        "!sudo apt update\n",
        "!apt-get install openjdk-8-jdk-headless -qq > /dev/null\n",
        "!wget -q https://dlcdn.apache.org/spark/spark-3.2.1/spark-3.2.1-bin-hadoop3.2.tgz\n",
        "!tar xf spark-3.2.1-bin-hadoop3.2.tgz\n",
        "!pip install -q findspark\n",
        "!pip install pyspark\n",
        "!pip install py4j\n",
        "\n",
        "import os\n",
        "import sys\n",
        "# os.environ[\"JAVA_HOME\"] = \"/usr/lib/jvm/java-8-openjdk-amd64\"\n",
        "# os.environ[\"SPARK_HOME\"] = \"/content/spark-3.2.1-bin-hadoop3.2\"\n",
        "\n",
        "\n",
        "import findspark\n",
        "findspark.init()\n",
        "findspark.find()\n",
        "\n",
        "import pyspark\n",
        "\n",
        "from pyspark.sql import DataFrame, SparkSession\n",
        "from typing import List\n",
        "from pyspark.sql.functions import col, lit, sum, count, date_format, to_date, year, month, dayofmonth, quarter, weekofyear, monotonically_increasing_id\n",
        "from pyspark.sql.window import Window\n",
        "\n",
        "spark= SparkSession \\\n",
        "       .builder \\\n",
        "       .appName(\"Liven Tech\") \\\n",
        "       .getOrCreate()\n",
        "\n",
        "spark.conf.set(\"spark.sql.repl.eagerEval.enabled\", True) # Property used to format output tables better\n",
        "\n",
        "spark"
      ],
      "metadata": {
        "colab": {
          "base_uri": "https://localhost:8080/",
          "height": 737
        },
        "id": "8RFQueB1-KfG",
        "outputId": "d2d998fe-6c6f-400f-81ea-602c5c8e3766"
      },
      "execution_count": 4,
      "outputs": [
        {
          "output_type": "stream",
          "name": "stdout",
          "text": [
            "Get:1 https://cloud.r-project.org/bin/linux/ubuntu jammy-cran40/ InRelease [3,632 B]\n",
            "Get:2 https://developer.download.nvidia.com/compute/cuda/repos/ubuntu2204/x86_64  InRelease [1,581 B]\n",
            "Get:3 http://security.ubuntu.com/ubuntu jammy-security InRelease [129 kB]\n",
            "Hit:4 http://archive.ubuntu.com/ubuntu jammy InRelease\n",
            "Get:5 https://r2u.stat.illinois.edu/ubuntu jammy InRelease [6,555 B]\n",
            "Get:6 https://developer.download.nvidia.com/compute/cuda/repos/ubuntu2204/x86_64  Packages [1,703 kB]\n",
            "Get:7 http://archive.ubuntu.com/ubuntu jammy-updates InRelease [128 kB]\n",
            "Hit:8 https://ppa.launchpadcontent.net/deadsnakes/ppa/ubuntu jammy InRelease\n",
            "Get:9 https://r2u.stat.illinois.edu/ubuntu jammy/main all Packages [8,985 kB]\n",
            "Hit:10 https://ppa.launchpadcontent.net/graphics-drivers/ppa/ubuntu jammy InRelease\n",
            "Hit:11 https://ppa.launchpadcontent.net/ubuntugis/ppa/ubuntu jammy InRelease\n",
            "Get:12 http://security.ubuntu.com/ubuntu jammy-security/main amd64 Packages [2,953 kB]\n",
            "Get:13 http://archive.ubuntu.com/ubuntu jammy-backports InRelease [127 kB]\n",
            "Get:14 http://archive.ubuntu.com/ubuntu jammy-updates/universe amd64 Packages [1,553 kB]\n",
            "Get:15 https://r2u.stat.illinois.edu/ubuntu jammy/main amd64 Packages [2,731 kB]\n",
            "Get:16 http://archive.ubuntu.com/ubuntu jammy-updates/main amd64 Packages [3,264 kB]\n",
            "Get:17 http://security.ubuntu.com/ubuntu jammy-security/universe amd64 Packages [1,246 kB]\n",
            "Get:18 http://security.ubuntu.com/ubuntu jammy-security/restricted amd64 Packages [4,410 kB]\n",
            "Fetched 27.2 MB in 3s (7,973 kB/s)\n",
            "Reading package lists... Done\n",
            "Building dependency tree... Done\n",
            "Reading state information... Done\n",
            "40 packages can be upgraded. Run 'apt list --upgradable' to see them.\n",
            "\u001b[1;33mW: \u001b[0mSkipping acquire of configured file 'main/source/Sources' as repository 'https://r2u.stat.illinois.edu/ubuntu jammy InRelease' does not seem to provide it (sources.list entry misspelt?)\u001b[0m\n",
            "tar: spark-3.2.1-bin-hadoop3.2.tgz: Cannot open: No such file or directory\n",
            "tar: Error is not recoverable: exiting now\n",
            "Requirement already satisfied: pyspark in /usr/local/lib/python3.11/dist-packages (3.5.1)\n",
            "Requirement already satisfied: py4j==0.10.9.7 in /usr/local/lib/python3.11/dist-packages (from pyspark) (0.10.9.7)\n",
            "Requirement already satisfied: py4j in /usr/local/lib/python3.11/dist-packages (0.10.9.7)\n"
          ]
        },
        {
          "output_type": "execute_result",
          "data": {
            "text/plain": [
              "<pyspark.sql.session.SparkSession at 0x7cdccfb70e50>"
            ],
            "text/html": [
              "\n",
              "            <div>\n",
              "                <p><b>SparkSession - in-memory</b></p>\n",
              "                \n",
              "        <div>\n",
              "            <p><b>SparkContext</b></p>\n",
              "\n",
              "            <p><a href=\"http://334b82da4000:4040\">Spark UI</a></p>\n",
              "\n",
              "            <dl>\n",
              "              <dt>Version</dt>\n",
              "                <dd><code>v3.5.1</code></dd>\n",
              "              <dt>Master</dt>\n",
              "                <dd><code>local[*]</code></dd>\n",
              "              <dt>AppName</dt>\n",
              "                <dd><code>Liven Tech</code></dd>\n",
              "            </dl>\n",
              "        </div>\n",
              "        \n",
              "            </div>\n",
              "        "
            ]
          },
          "metadata": {},
          "execution_count": 4
        }
      ]
    },
    {
      "cell_type": "code",
      "source": [
        "# @title Funções auxiliares\n",
        "def read_database_table(table, database_url):\n",
        "  try:\n",
        "    conn = sqlite3.connect(database_url)\n",
        "\n",
        "    # Lê a tabela\n",
        "    df_table = pd.read_sql_query(f\"SELECT * FROM {table}\", conn)\n",
        "    conn.close()\n",
        "\n",
        "    # Converte para Spark\n",
        "    df_spark = spark.createDataFrame(df_table)\n",
        "    return df_spark\n",
        "  except:\n",
        "    print(f\"Falha na leitura da tabela: {table}\")\n",
        "    raise Exception(\"Falha na leitura da tabela!\")\n",
        "\n",
        "\n",
        "def check_data_quality(data_frame, columns):\n",
        "  errors = []\n",
        "  for column in columns:\n",
        "    if data_frame.filter(col(column).isNull()).count() > 0:\n",
        "      errors.append(f\"Coluna {column} possui valores nulos!\")\n",
        "\n",
        "  if errors:\n",
        "    error_message = \"\\n\".join(errors)\n",
        "    raise Exception(f\"Falha no processo de Data Quality:\\n{error_message}\")\n",
        "  else:\n",
        "    print(f\"Dataset validado com sucesso!\")\n"
      ],
      "metadata": {
        "id": "OC_hQlgvjulC"
      },
      "execution_count": 9,
      "outputs": []
    },
    {
      "cell_type": "code",
      "source": [
        "# @title Leitura dos dados originais\n",
        "database_url = \"/content/drive/MyDrive/liven-tech-db/olist.sqlite\"\n",
        "\n",
        "products_df = read_database_table(\"products\", database_url)\n",
        "order_items_df = read_database_table(\"order_items\", database_url)\n",
        "orders_df = read_database_table(\"orders\", database_url)\n",
        "customers_df = read_database_table(\"customers\", database_url)\n",
        "sellers_df = read_database_table(\"sellers\", database_url)\n",
        "order_payments_df = read_database_table(\"order_payments\", database_url)\n",
        "order_reviews_df = read_database_table(\"order_reviews\", database_url)\n",
        "product_category_translation_df = read_database_table(\"product_category_name_translation\", database_url)"
      ],
      "metadata": {
        "id": "Flbre3lODyB2"
      },
      "execution_count": 7,
      "outputs": []
    },
    {
      "cell_type": "code",
      "source": [
        "# @title Verificação de dados para as chaves, mas extensivel para outras colunas\n",
        "\n",
        "check_data_quality(products_df, [\"product_id\"])\n",
        "check_data_quality(order_items_df, [\"order_id\", \"order_item_id\", \"product_id\", \"seller_id\"])\n",
        "check_data_quality(orders_df, [\"order_id\", \"customer_id\"])\n",
        "check_data_quality(customers_df, [\"customer_id\", \"customer_unique_id\", \"customer_zip_code_prefix\"])\n",
        "check_data_quality(sellers_df, [\"seller_id\", \"seller_zip_code_prefix\"])\n",
        "check_data_quality(order_payments_df, [\"order_id\"])\n",
        "check_data_quality(order_reviews_df, [\"review_id\", \"order_id\"])\n",
        "check_data_quality(product_category_translation_df, [\"product_category_name\"])"
      ],
      "metadata": {
        "colab": {
          "base_uri": "https://localhost:8080/"
        },
        "id": "9kRtgJdGSZaO",
        "outputId": "a17823c5-ade5-403f-fd5e-176c986ff67d"
      },
      "execution_count": 11,
      "outputs": [
        {
          "output_type": "stream",
          "name": "stdout",
          "text": [
            "Dataset validado com sucesso!\n",
            "Dataset validado com sucesso!\n",
            "Dataset validado com sucesso!\n",
            "Dataset validado com sucesso!\n",
            "Dataset validado com sucesso!\n",
            "Dataset validado com sucesso!\n",
            "Dataset validado com sucesso!\n",
            "Dataset validado com sucesso!\n"
          ]
        }
      ]
    },
    {
      "cell_type": "code",
      "source": [
        "# @title Criação da dimensão PRODUTO\n",
        "dim_produto = products_df.join(\n",
        "    product_category_translation_df,\n",
        "    products_df.product_category_name == product_category_translation_df.product_category_name,\n",
        "    \"left\"\n",
        ").select(\n",
        "    products_df.product_id.alias(\"id_produto\"),\n",
        "    products_df.product_id.alias(\"product_id_original\"),\n",
        "    products_df.product_category_name.alias(\"categoria_pt\"),\n",
        "    product_category_translation_df.product_category_name_english.alias(\"categoria_en\"),\n",
        "    products_df.product_weight_g.alias(\"peso_g\"),\n",
        "    products_df.product_length_cm.alias(\"comprimento_cm\"),\n",
        "    products_df.product_height_cm.alias(\"altura_cm\"),\n",
        "    products_df.product_width_cm.alias(\"largura_cm\")\n",
        ")\n",
        "\n",
        "dim_produto.createOrReplaceTempView(\"dim_produto\")"
      ],
      "metadata": {
        "id": "i5eiJizwlBc-"
      },
      "execution_count": 12,
      "outputs": []
    },
    {
      "cell_type": "code",
      "source": [
        "# @title Criação da dimensão CLIENTE\n",
        "dim_cliente = customers_df.select(\n",
        "    customers_df.customer_id.alias(\"id_cliente\"),\n",
        "    customers_df.customer_unique_id.alias(\"customer_id_original\"),\n",
        "    customers_df.customer_city.alias(\"cidade\"),\n",
        "    customers_df.customer_state.alias(\"estado\"),\n",
        "    customers_df.customer_zip_code_prefix.alias(\"cep_prefixo\")\n",
        ")\n",
        "\n",
        "dim_cliente.createOrReplaceTempView(\"dim_cliente\")"
      ],
      "metadata": {
        "id": "d5sLBN8ElFWR"
      },
      "execution_count": 13,
      "outputs": []
    },
    {
      "cell_type": "code",
      "source": [
        "# @title Criação da dimensão VENDEDOR\n",
        "dim_vendedor = sellers_df.select(\n",
        "    sellers_df.seller_id.alias(\"id_vendedor\"),\n",
        "    sellers_df.seller_id.alias(\"seller_id_original\"),\n",
        "    sellers_df.seller_city.alias(\"cidade\"),\n",
        "    sellers_df.seller_state.alias(\"estado\"),\n",
        "    sellers_df.seller_zip_code_prefix.alias(\"cep_prefixo\")\n",
        ")\n",
        "\n",
        "dim_vendedor.createOrReplaceTempView(\"dim_vendedor\")"
      ],
      "metadata": {
        "id": "rXlQOTVklIZ4"
      },
      "execution_count": 14,
      "outputs": []
    },
    {
      "cell_type": "code",
      "source": [
        "# @title Criação da dimensão PAGAMENTO\n",
        "dim_pagamento = order_payments_df.select(\n",
        "    order_payments_df.payment_type.alias(\"tipo_pagamento\"),\n",
        "    order_payments_df.payment_installments.alias(\"parcelas\")\n",
        ").distinct().withColumn(\n",
        "    \"id_pagamento\",\n",
        "    monotonically_increasing_id()  # Criar um ID único\n",
        ")\n",
        "\n",
        "dim_pagamento.createOrReplaceTempView(\"dim_pagamento\")"
      ],
      "metadata": {
        "id": "-YbAwCb8lKB4"
      },
      "execution_count": 15,
      "outputs": []
    },
    {
      "cell_type": "code",
      "source": [
        "# @title Criação da dimensão TEMPO\n",
        "dim_tempo = orders_df.select(\n",
        "    to_date(orders_df.order_purchase_timestamp).alias(\"data_completa\")\n",
        ").distinct().select(\n",
        "    date_format(col(\"data_completa\"), \"yyyyMMdd\").cast(\"int\").alias(\"id_data\"),\n",
        "    col(\"data_completa\"),\n",
        "    year(\"data_completa\").alias(\"ano\"),\n",
        "    month(\"data_completa\").alias(\"mes\"),\n",
        "    dayofmonth(\"data_completa\").alias(\"dia\"),\n",
        "    quarter(\"data_completa\").alias(\"trimestre\"),\n",
        "    weekofyear(\"data_completa\").alias(\"semana\")\n",
        ")\n",
        "\n",
        "dim_tempo.createOrReplaceTempView(\"dim_tempo\")"
      ],
      "metadata": {
        "id": "z1mvV4YylMDd"
      },
      "execution_count": 16,
      "outputs": []
    },
    {
      "cell_type": "code",
      "source": [
        "# @title Criação da tabela fato VENDAS\n",
        "fato_vendas = order_items_df.join(\n",
        "    orders_df,\n",
        "    order_items_df.order_id == orders_df.order_id,\n",
        "    \"inner\"\n",
        ").join(\n",
        "    dim_produto,\n",
        "    order_items_df.product_id == dim_produto.product_id_original,\n",
        "    \"inner\"\n",
        ").join(\n",
        "    dim_cliente,\n",
        "    orders_df.customer_id == dim_cliente.id_cliente,\n",
        "    \"inner\"\n",
        ").join(\n",
        "    dim_vendedor,\n",
        "    order_items_df.seller_id == dim_vendedor.seller_id_original,\n",
        "    \"inner\"\n",
        ").join(\n",
        "    order_payments_df,\n",
        "    order_items_df.order_id == order_payments_df.order_id,\n",
        "    \"left\"\n",
        ").join(\n",
        "    dim_pagamento,\n",
        "    (order_payments_df.payment_type == dim_pagamento.tipo_pagamento) &\n",
        "    (order_payments_df.payment_installments == dim_pagamento.parcelas),\n",
        "    \"left\"\n",
        ").join(\n",
        "    dim_tempo,\n",
        "    to_date(orders_df.order_purchase_timestamp) == dim_tempo.data_completa,\n",
        "    \"inner\"\n",
        ").select(\n",
        "    order_items_df.order_id.alias(\"id_venda\"),\n",
        "    dim_produto.id_produto,\n",
        "    dim_cliente.id_cliente,\n",
        "    dim_vendedor.id_vendedor,\n",
        "    dim_pagamento.id_pagamento,\n",
        "    dim_tempo.id_data,\n",
        "    lit(1).alias(\"quantidade_itens\"),  # Cada linha é um item\n",
        "    order_items_df.price.alias(\"valor_unitario\"),\n",
        "    order_items_df.freight_value.alias(\"frete\")\n",
        ").groupBy(\n",
        "    \"id_venda\", \"id_produto\", \"id_cliente\", \"id_vendedor\", \"id_pagamento\", \"id_data\"\n",
        ").agg(\n",
        "    sum(\"quantidade_itens\").alias(\"quantidade_itens\"),\n",
        "    sum(\"valor_unitario\").alias(\"valor_faturado\"),\n",
        "    sum(\"frete\").alias(\"frete_total\")\n",
        ")\n",
        "\n",
        "fato_vendas.createOrReplaceTempView(\"fato_vendas\")"
      ],
      "metadata": {
        "id": "SAu5hje9lPz8"
      },
      "execution_count": 17,
      "outputs": []
    },
    {
      "cell_type": "code",
      "source": [
        "# @title Criação da tabela fato AVALIACOES\n",
        "fato_avaliacoes = order_reviews_df.join(\n",
        "    orders_df,\n",
        "    order_reviews_df.order_id == orders_df.order_id,\n",
        "    \"inner\"\n",
        ").join(\n",
        "    dim_cliente,\n",
        "    orders_df.customer_id == dim_cliente.id_cliente,\n",
        "    \"inner\"\n",
        ").join(\n",
        "    dim_tempo,\n",
        "    to_date(order_reviews_df.review_creation_date) == dim_tempo.data_completa,\n",
        "    \"inner\"\n",
        ").select(\n",
        "    order_reviews_df.review_id.alias(\"id_avaliacao\"),\n",
        "    orders_df.order_id.alias(\"id_pedido\"),\n",
        "    dim_cliente.id_cliente,\n",
        "    dim_tempo.id_data.alias(\"id_data_avaliacao\"),\n",
        "    order_reviews_df.review_score,\n",
        "    # Contar pedidos do cliente como \"volume_compras\"\n",
        "    count(orders_df.order_id).over(\n",
        "        Window.partitionBy(orders_df.customer_id)\n",
        "    ).alias(\"volume_compras\")\n",
        ")\n",
        "\n",
        "fato_avaliacoes.createOrReplaceTempView(\"fato_avaliacoes\")"
      ],
      "metadata": {
        "id": "jrKeEa4LlSmH"
      },
      "execution_count": 18,
      "outputs": []
    },
    {
      "cell_type": "code",
      "source": [
        "#@title Faturamento por Categoria de Produto\n",
        "query_faturamento = \"\"\"\n",
        "SELECT\n",
        "    dp.categoria_pt AS categoria_produto,\n",
        "    COUNT(DISTINCT fv.id_venda) AS quantidade_compras,\n",
        "    SUM(fv.valor_faturado) AS valor_faturado_total,\n",
        "    SUM(fv.frete_total) AS valor_frete_total,\n",
        "    SUM(fv.valor_faturado + fv.frete_total) AS valor_total\n",
        "FROM\n",
        "    fato_vendas fv\n",
        "JOIN\n",
        "    dim_produto dp ON fv.id_produto = dp.id_produto\n",
        "JOIN\n",
        "    dim_vendedor dv ON fv.id_vendedor = dv.id_vendedor\n",
        "JOIN\n",
        "    dim_pagamento dpg ON fv.id_pagamento = dpg.id_pagamento\n",
        "JOIN\n",
        "    dim_tempo dt ON fv.id_data = dt.id_data\n",
        "WHERE\n",
        "    1=1\n",
        "    -- Filtros\n",
        "    -- AND dt.data_completa BETWEEN '2024-01-01' AND '2024-12-31'  -- Filtro por data\n",
        "    -- AND dv.id_vendedor = 123  -- Ex Filtro por vendedor\n",
        "    -- AND dp.id_produto = 456  -- Ex Filtro por produto\n",
        "    -- AND dpg.tipo_pagamento = 'credit_card'  -- Ex Filtro por tipo de pagamento\n",
        "GROUP BY\n",
        "    dp.categoria_pt\n",
        "ORDER BY\n",
        "    valor_faturado_total DESC;\"\"\""
      ],
      "metadata": {
        "id": "jonX35w_ngF3"
      },
      "execution_count": 21,
      "outputs": []
    },
    {
      "cell_type": "code",
      "source": [
        "#debug\n",
        "df_faturamento = spark.sql(query_faturamento)\n",
        "display(df_faturamento)"
      ],
      "metadata": {
        "id": "om6dzOPLb5z3",
        "colab": {
          "base_uri": "https://localhost:8080/",
          "height": 525
        },
        "outputId": "2d0bb61c-4fa1-4793-cd7c-f4caf4eac5ff"
      },
      "execution_count": 22,
      "outputs": [
        {
          "output_type": "display_data",
          "data": {
            "text/plain": [
              "+--------------------+------------------+--------------------+------------------+------------------+\n",
              "|   categoria_produto|quantidade_compras|valor_faturado_total| valor_frete_total|       valor_total|\n",
              "+--------------------+------------------+--------------------+------------------+------------------+\n",
              "|        beleza_saude|              8835|  1297355.8000000168|188524.49000000051|1485880.2899999996|\n",
              "|  relogios_presentes|              5624|  1253143.3000000129|104335.51999999987|1357478.8200000045|\n",
              "|     cama_mesa_banho|              9417|  1092551.0200000338|217733.11000000077|1310284.1300000024|\n",
              "|       esporte_lazer|              7720|  1023996.3400000163| 174528.0099999997| 1198524.350000002|\n",
              "|informatica_acess...|              6689|   942277.5700000122|153179.40999999968|1095456.9799999986|\n",
              "|    moveis_decoracao|              6449|   765093.8900000055| 181499.2300000003| 946593.1200000036|\n",
              "|utilidades_domest...|              5884|   666586.9999999984| 154264.2400000001| 820851.2400000021|\n",
              "|          cool_stuff|              3632|   662309.4899999939| 87840.53000000012| 750150.0200000013|\n",
              "|          automotivo|              3897|   616752.5099999948| 95689.56999999992|  712442.080000001|\n",
              "|  ferramentas_jardim|              3518|   518217.5399999927|105634.43999999962| 623851.9800000003|\n",
              "|          brinquedos|              3886|  500295.08999999065| 80984.99999999983| 581280.0899999988|\n",
              "|               bebes|              2885|   434479.6099999945|  71530.6099999999| 506010.2200000003|\n",
              "|          perfumaria|              3162|  412754.80999999435|56357.490000000005|469112.30000000016|\n",
              "|           telefonia|              4199|   339399.1599999974| 74165.15999999933| 413564.3199999982|\n",
              "|   moveis_escritorio|              1273|   286158.9600000007| 71462.54999999997| 357621.5099999998|\n",
              "|                 pcs|               181|  242811.61000000002|10562.800000000007|253374.41000000003|\n",
              "|           papelaria|              2311|   239028.9899999986| 48831.00999999992|287860.00000000035|\n",
              "|            pet_shop|              1710|  222932.29999999952| 41196.17999999995| 264128.4800000002|\n",
              "|instrumentos_musi...|               628|   210928.7299999997|19614.500000000007|230543.23000000007|\n",
              "|     eletroportateis|               630|  200916.65999999992|          16742.28| 217658.9399999999|\n",
              "+--------------------+------------------+--------------------+------------------+------------------+\n",
              "only showing top 20 rows"
            ],
            "text/html": [
              "<table border='1'>\n",
              "<tr><th>categoria_produto</th><th>quantidade_compras</th><th>valor_faturado_total</th><th>valor_frete_total</th><th>valor_total</th></tr>\n",
              "<tr><td>beleza_saude</td><td>8835</td><td>1297355.8000000168</td><td>188524.49000000051</td><td>1485880.2899999996</td></tr>\n",
              "<tr><td>relogios_presentes</td><td>5624</td><td>1253143.3000000129</td><td>104335.51999999987</td><td>1357478.8200000045</td></tr>\n",
              "<tr><td>cama_mesa_banho</td><td>9417</td><td>1092551.0200000338</td><td>217733.11000000077</td><td>1310284.1300000024</td></tr>\n",
              "<tr><td>esporte_lazer</td><td>7720</td><td>1023996.3400000163</td><td>174528.0099999997</td><td>1198524.350000002</td></tr>\n",
              "<tr><td>informatica_acess...</td><td>6689</td><td>942277.5700000122</td><td>153179.40999999968</td><td>1095456.9799999986</td></tr>\n",
              "<tr><td>moveis_decoracao</td><td>6449</td><td>765093.8900000055</td><td>181499.2300000003</td><td>946593.1200000036</td></tr>\n",
              "<tr><td>utilidades_domest...</td><td>5884</td><td>666586.9999999984</td><td>154264.2400000001</td><td>820851.2400000021</td></tr>\n",
              "<tr><td>cool_stuff</td><td>3632</td><td>662309.4899999939</td><td>87840.53000000012</td><td>750150.0200000013</td></tr>\n",
              "<tr><td>automotivo</td><td>3897</td><td>616752.5099999948</td><td>95689.56999999992</td><td>712442.080000001</td></tr>\n",
              "<tr><td>ferramentas_jardim</td><td>3518</td><td>518217.5399999927</td><td>105634.43999999962</td><td>623851.9800000003</td></tr>\n",
              "<tr><td>brinquedos</td><td>3886</td><td>500295.08999999065</td><td>80984.99999999983</td><td>581280.0899999988</td></tr>\n",
              "<tr><td>bebes</td><td>2885</td><td>434479.6099999945</td><td>71530.6099999999</td><td>506010.2200000003</td></tr>\n",
              "<tr><td>perfumaria</td><td>3162</td><td>412754.80999999435</td><td>56357.490000000005</td><td>469112.30000000016</td></tr>\n",
              "<tr><td>telefonia</td><td>4199</td><td>339399.1599999974</td><td>74165.15999999933</td><td>413564.3199999982</td></tr>\n",
              "<tr><td>moveis_escritorio</td><td>1273</td><td>286158.9600000007</td><td>71462.54999999997</td><td>357621.5099999998</td></tr>\n",
              "<tr><td>pcs</td><td>181</td><td>242811.61000000002</td><td>10562.800000000007</td><td>253374.41000000003</td></tr>\n",
              "<tr><td>papelaria</td><td>2311</td><td>239028.9899999986</td><td>48831.00999999992</td><td>287860.00000000035</td></tr>\n",
              "<tr><td>pet_shop</td><td>1710</td><td>222932.29999999952</td><td>41196.17999999995</td><td>264128.4800000002</td></tr>\n",
              "<tr><td>instrumentos_musi...</td><td>628</td><td>210928.7299999997</td><td>19614.500000000007</td><td>230543.23000000007</td></tr>\n",
              "<tr><td>eletroportateis</td><td>630</td><td>200916.65999999992</td><td>16742.28</td><td>217658.9399999999</td></tr>\n",
              "</table>\n",
              "only showing top 20 rows\n"
            ]
          },
          "metadata": {}
        }
      ]
    },
    {
      "cell_type": "code",
      "source": [
        "#@title Distribuição de avaliações por nota e volume de compras\n",
        "query_nota = \"\"\"\n",
        "SELECT\n",
        "    fa.review_score AS nota_avaliacao,\n",
        "    COUNT(fa.id_avaliacao) AS quantidade_avaliacoes,\n",
        "    AVG(fa.volume_compras) AS media_compras_cliente,\n",
        "    MIN(fa.volume_compras) AS min_compras_cliente,\n",
        "    MAX(fa.volume_compras) AS max_compras_cliente,\n",
        "    dc.estado AS estado_cliente\n",
        "FROM\n",
        "    fato_avaliacoes fa\n",
        "JOIN\n",
        "    dim_cliente dc ON fa.id_cliente = dc.id_cliente\n",
        "JOIN\n",
        "    dim_tempo dt ON fa.id_data_avaliacao = dt.id_data\n",
        "WHERE\n",
        "    1=1\n",
        "    -- Filtros\n",
        "    -- AND dt.data_completa BETWEEN '2024-01-01' AND '2024-12-31'  -- Filtro por data avaliação\n",
        "    -- AND dc.id_cliente = 789  -- Ex Filtro por cliente específico\n",
        "    -- AND dc.estado = 'SP'  -- Ex Filtro por estado do cliente\n",
        "GROUP BY\n",
        "    fa.review_score, dc.estado\n",
        "ORDER BY\n",
        "    fa.review_score, dc.estado;\"\"\""
      ],
      "metadata": {
        "id": "FFfh4geBbwyX"
      },
      "execution_count": 23,
      "outputs": []
    },
    {
      "cell_type": "code",
      "source": [
        "#debug\n",
        "df_nota = spark.sql(query_nota)\n",
        "display(df_nota)"
      ],
      "metadata": {
        "colab": {
          "base_uri": "https://localhost:8080/",
          "height": 525
        },
        "id": "0_HJ2Cikoezo",
        "outputId": "d32fa1f0-c267-4aa8-c428-672de1bcfd6e"
      },
      "execution_count": 24,
      "outputs": [
        {
          "output_type": "display_data",
          "data": {
            "text/plain": [
              "+--------------+---------------------+---------------------+-------------------+-------------------+--------------+\n",
              "|nota_avaliacao|quantidade_avaliacoes|media_compras_cliente|min_compras_cliente|max_compras_cliente|estado_cliente|\n",
              "+--------------+---------------------+---------------------+-------------------+-------------------+--------------+\n",
              "|             1|                    7|                  1.0|                  1|                  1|            AC|\n",
              "|             1|                   72|   1.0416666666666667|                  1|                  2|            AL|\n",
              "|             1|                   12|   1.1666666666666667|                  1|                  2|            AM|\n",
              "|             1|                    3|                  1.0|                  1|                  1|            AP|\n",
              "|             1|                  503|   1.0059642147117296|                  1|                  2|            BA|\n",
              "|             1|                  210|   1.0095238095238095|                  1|                  2|            CE|\n",
              "|             1|                  253|   1.0118577075098814|                  1|                  2|            DF|\n",
              "|             1|                  242|   1.0041322314049588|                  1|                  2|            ES|\n",
              "|             1|                  232|   1.0129310344827587|                  1|                  2|            GO|\n",
              "|             1|                  131|                  1.0|                  1|                  1|            MA|\n",
              "|             1|                 1194|   1.0142378559463987|                  1|                  3|            MG|\n",
              "|             1|                   81|                  1.0|                  1|                  1|            MS|\n",
              "|             1|                   91|                  1.0|                  1|                  1|            MT|\n",
              "|             1|                  155|   1.0129032258064516|                  1|                  2|            PA|\n",
              "|             1|                   65|                  1.0|                  1|                  1|            PB|\n",
              "|             1|                  220|                  1.0|                  1|                  1|            PE|\n",
              "|             1|                   72|                  1.0|                  1|                  1|            PI|\n",
              "|             1|                  471|   1.0148619957537155|                  1|                  2|            PR|\n",
              "|             1|                 2162|   1.0171137835337651|                  1|                  2|            RJ|\n",
              "|             1|                   54|                  1.0|                  1|                  1|            RN|\n",
              "+--------------+---------------------+---------------------+-------------------+-------------------+--------------+\n",
              "only showing top 20 rows"
            ],
            "text/html": [
              "<table border='1'>\n",
              "<tr><th>nota_avaliacao</th><th>quantidade_avaliacoes</th><th>media_compras_cliente</th><th>min_compras_cliente</th><th>max_compras_cliente</th><th>estado_cliente</th></tr>\n",
              "<tr><td>1</td><td>7</td><td>1.0</td><td>1</td><td>1</td><td>AC</td></tr>\n",
              "<tr><td>1</td><td>72</td><td>1.0416666666666667</td><td>1</td><td>2</td><td>AL</td></tr>\n",
              "<tr><td>1</td><td>12</td><td>1.1666666666666667</td><td>1</td><td>2</td><td>AM</td></tr>\n",
              "<tr><td>1</td><td>3</td><td>1.0</td><td>1</td><td>1</td><td>AP</td></tr>\n",
              "<tr><td>1</td><td>503</td><td>1.0059642147117296</td><td>1</td><td>2</td><td>BA</td></tr>\n",
              "<tr><td>1</td><td>210</td><td>1.0095238095238095</td><td>1</td><td>2</td><td>CE</td></tr>\n",
              "<tr><td>1</td><td>253</td><td>1.0118577075098814</td><td>1</td><td>2</td><td>DF</td></tr>\n",
              "<tr><td>1</td><td>242</td><td>1.0041322314049588</td><td>1</td><td>2</td><td>ES</td></tr>\n",
              "<tr><td>1</td><td>232</td><td>1.0129310344827587</td><td>1</td><td>2</td><td>GO</td></tr>\n",
              "<tr><td>1</td><td>131</td><td>1.0</td><td>1</td><td>1</td><td>MA</td></tr>\n",
              "<tr><td>1</td><td>1194</td><td>1.0142378559463987</td><td>1</td><td>3</td><td>MG</td></tr>\n",
              "<tr><td>1</td><td>81</td><td>1.0</td><td>1</td><td>1</td><td>MS</td></tr>\n",
              "<tr><td>1</td><td>91</td><td>1.0</td><td>1</td><td>1</td><td>MT</td></tr>\n",
              "<tr><td>1</td><td>155</td><td>1.0129032258064516</td><td>1</td><td>2</td><td>PA</td></tr>\n",
              "<tr><td>1</td><td>65</td><td>1.0</td><td>1</td><td>1</td><td>PB</td></tr>\n",
              "<tr><td>1</td><td>220</td><td>1.0</td><td>1</td><td>1</td><td>PE</td></tr>\n",
              "<tr><td>1</td><td>72</td><td>1.0</td><td>1</td><td>1</td><td>PI</td></tr>\n",
              "<tr><td>1</td><td>471</td><td>1.0148619957537155</td><td>1</td><td>2</td><td>PR</td></tr>\n",
              "<tr><td>1</td><td>2162</td><td>1.0171137835337651</td><td>1</td><td>2</td><td>RJ</td></tr>\n",
              "<tr><td>1</td><td>54</td><td>1.0</td><td>1</td><td>1</td><td>RN</td></tr>\n",
              "</table>\n",
              "only showing top 20 rows\n"
            ]
          },
          "metadata": {}
        }
      ]
    },
    {
      "cell_type": "code",
      "source": [
        "# Exemplo de escrita particionada\n",
        "fato_vendas.repartition(\"id_data\").write.partitionBy(\"id_data\")\\\n",
        "    .mode(\"overwrite\")\\\n",
        "    .format(\"parquet\")\\\n",
        "    .save(\"/caminho/para/fato_vendas\")\n",
        "\n",
        "\n",
        "fato_avaliacoes.repartition(\"review_score\").write.partitionBy(\"review_score\")\\\n",
        "    .mode(\"overwrite\")\\\n",
        "    .format(\"parquet\")\\\n",
        "    .save(\"/caminho/para/fato_avaliacoes\")"
      ],
      "metadata": {
        "id": "izyMXbtqbX13"
      },
      "execution_count": null,
      "outputs": []
    }
  ]
}